{
 "metadata": {
  "language_info": {
   "codemirror_mode": {
    "name": "ipython",
    "version": 3
   },
   "file_extension": ".py",
   "mimetype": "text/x-python",
   "name": "python",
   "nbconvert_exporter": "python",
   "pygments_lexer": "ipython3",
   "version": 3
  },
  "orig_nbformat": 2,
  "kernelspec": {
   "name": "python_defaultSpec_1596033879882",
   "display_name": "Python 3.7.6 64-bit ('base': conda)"
  }
 },
 "nbformat": 4,
 "nbformat_minor": 2,
 "cells": [
  {
   "cell_type": "code",
   "execution_count": 2,
   "metadata": {},
   "outputs": [],
   "source": [
    "import pandas as pd"
   ]
  },
  {
   "cell_type": "code",
   "execution_count": 3,
   "metadata": {},
   "outputs": [],
   "source": [
    "import seaborn as sns"
   ]
  },
  {
   "cell_type": "code",
   "execution_count": 5,
   "metadata": {},
   "outputs": [],
   "source": [
    "df = sns.load_dataset(\"iris\")"
   ]
  },
  {
   "cell_type": "code",
   "execution_count": 7,
   "metadata": {},
   "outputs": [
    {
     "output_type": "execute_result",
     "data": {
      "text/plain": "Index(['sepal_length', 'sepal_width', 'petal_length', 'petal_width',\n       'species'],\n      dtype='object')"
     },
     "metadata": {},
     "execution_count": 7
    }
   ],
   "source": [
    "df.columns"
   ]
  },
  {
   "cell_type": "code",
   "execution_count": 8,
   "metadata": {},
   "outputs": [
    {
     "output_type": "execute_result",
     "data": {
      "text/plain": "0      5.1\n1      4.9\n2      4.7\n3      4.6\n4      5.0\n      ... \n145    6.7\n146    6.3\n147    6.5\n148    6.2\n149    5.9\nName: sepal_length, Length: 150, dtype: float64"
     },
     "metadata": {},
     "execution_count": 8
    }
   ],
   "source": [
    "df[\"sepal_length\"]"
   ]
  },
  {
   "cell_type": "code",
   "execution_count": 10,
   "metadata": {},
   "outputs": [],
   "source": [
    "names = ['Abhi','Ram','Shaam']\n",
    "ages = [25,56,45]"
   ]
  },
  {
   "cell_type": "code",
   "execution_count": 11,
   "metadata": {},
   "outputs": [],
   "source": [
    "d = {\n",
    "    \"name\":names,\n",
    "    \"age\":ages\n",
    "}"
   ]
  },
  {
   "cell_type": "code",
   "execution_count": 12,
   "metadata": {},
   "outputs": [
    {
     "output_type": "execute_result",
     "data": {
      "text/plain": "{'name': ['Abhi', 'Ram', 'Shaam'], 'age': [25, 56, 45]}"
     },
     "metadata": {},
     "execution_count": 12
    }
   ],
   "source": [
    "d"
   ]
  },
  {
   "cell_type": "code",
   "execution_count": 14,
   "metadata": {},
   "outputs": [
    {
     "output_type": "execute_result",
     "data": {
      "text/plain": "    name  age\n0   Abhi   25\n1    Ram   56\n2  Shaam   45",
      "text/html": "<div>\n<style scoped>\n    .dataframe tbody tr th:only-of-type {\n        vertical-align: middle;\n    }\n\n    .dataframe tbody tr th {\n        vertical-align: top;\n    }\n\n    .dataframe thead th {\n        text-align: right;\n    }\n</style>\n<table border=\"1\" class=\"dataframe\">\n  <thead>\n    <tr style=\"text-align: right;\">\n      <th></th>\n      <th>name</th>\n      <th>age</th>\n    </tr>\n  </thead>\n  <tbody>\n    <tr>\n      <th>0</th>\n      <td>Abhi</td>\n      <td>25</td>\n    </tr>\n    <tr>\n      <th>1</th>\n      <td>Ram</td>\n      <td>56</td>\n    </tr>\n    <tr>\n      <th>2</th>\n      <td>Shaam</td>\n      <td>45</td>\n    </tr>\n  </tbody>\n</table>\n</div>"
     },
     "metadata": {},
     "execution_count": 14
    }
   ],
   "source": [
    "pd.DataFrame(d)"
   ]
  },
  {
   "cell_type": "code",
   "execution_count": 15,
   "metadata": {},
   "outputs": [],
   "source": [
    "import numpy as np"
   ]
  },
  {
   "cell_type": "code",
   "execution_count": 16,
   "metadata": {},
   "outputs": [],
   "source": [
    "data = np.random.randint(10,20,(10,5))"
   ]
  },
  {
   "cell_type": "code",
   "execution_count": 21,
   "metadata": {},
   "outputs": [],
   "source": [
    "marks = pd.DataFrame(data,columns=[\"p\",\"c\",\"r\",\"y\",\"u\"])"
   ]
  },
  {
   "cell_type": "code",
   "execution_count": 22,
   "metadata": {},
   "outputs": [],
   "source": [
    "marks[\"bio\"] = 0"
   ]
  },
  {
   "cell_type": "code",
   "execution_count": 23,
   "metadata": {},
   "outputs": [
    {
     "output_type": "execute_result",
     "data": {
      "text/plain": "    p   c   r   y   u  bio\n0  10  16  10  19  16    0\n1  14  12  18  18  12    0\n2  16  12  14  11  16    0\n3  12  16  18  13  13    0\n4  11  11  12  10  11    0\n5  12  19  18  14  19    0\n6  12  12  18  13  13    0\n7  15  19  19  12  15    0\n8  16  19  14  18  17    0\n9  15  13  11  14  13    0",
      "text/html": "<div>\n<style scoped>\n    .dataframe tbody tr th:only-of-type {\n        vertical-align: middle;\n    }\n\n    .dataframe tbody tr th {\n        vertical-align: top;\n    }\n\n    .dataframe thead th {\n        text-align: right;\n    }\n</style>\n<table border=\"1\" class=\"dataframe\">\n  <thead>\n    <tr style=\"text-align: right;\">\n      <th></th>\n      <th>p</th>\n      <th>c</th>\n      <th>r</th>\n      <th>y</th>\n      <th>u</th>\n      <th>bio</th>\n    </tr>\n  </thead>\n  <tbody>\n    <tr>\n      <th>0</th>\n      <td>10</td>\n      <td>16</td>\n      <td>10</td>\n      <td>19</td>\n      <td>16</td>\n      <td>0</td>\n    </tr>\n    <tr>\n      <th>1</th>\n      <td>14</td>\n      <td>12</td>\n      <td>18</td>\n      <td>18</td>\n      <td>12</td>\n      <td>0</td>\n    </tr>\n    <tr>\n      <th>2</th>\n      <td>16</td>\n      <td>12</td>\n      <td>14</td>\n      <td>11</td>\n      <td>16</td>\n      <td>0</td>\n    </tr>\n    <tr>\n      <th>3</th>\n      <td>12</td>\n      <td>16</td>\n      <td>18</td>\n      <td>13</td>\n      <td>13</td>\n      <td>0</td>\n    </tr>\n    <tr>\n      <th>4</th>\n      <td>11</td>\n      <td>11</td>\n      <td>12</td>\n      <td>10</td>\n      <td>11</td>\n      <td>0</td>\n    </tr>\n    <tr>\n      <th>5</th>\n      <td>12</td>\n      <td>19</td>\n      <td>18</td>\n      <td>14</td>\n      <td>19</td>\n      <td>0</td>\n    </tr>\n    <tr>\n      <th>6</th>\n      <td>12</td>\n      <td>12</td>\n      <td>18</td>\n      <td>13</td>\n      <td>13</td>\n      <td>0</td>\n    </tr>\n    <tr>\n      <th>7</th>\n      <td>15</td>\n      <td>19</td>\n      <td>19</td>\n      <td>12</td>\n      <td>15</td>\n      <td>0</td>\n    </tr>\n    <tr>\n      <th>8</th>\n      <td>16</td>\n      <td>19</td>\n      <td>14</td>\n      <td>18</td>\n      <td>17</td>\n      <td>0</td>\n    </tr>\n    <tr>\n      <th>9</th>\n      <td>15</td>\n      <td>13</td>\n      <td>11</td>\n      <td>14</td>\n      <td>13</td>\n      <td>0</td>\n    </tr>\n  </tbody>\n</table>\n</div>"
     },
     "metadata": {},
     "execution_count": 23
    }
   ],
   "source": [
    "marks"
   ]
  },
  {
   "cell_type": "code",
   "execution_count": 25,
   "metadata": {},
   "outputs": [
    {
     "output_type": "execute_result",
     "data": {
      "text/plain": "       sepal_length  sepal_width  petal_length  petal_width\ncount    150.000000   150.000000    150.000000   150.000000\nmean       5.843333     3.057333      3.758000     1.199333\nstd        0.828066     0.435866      1.765298     0.762238\nmin        4.300000     2.000000      1.000000     0.100000\n25%        5.100000     2.800000      1.600000     0.300000\n50%        5.800000     3.000000      4.350000     1.300000\n75%        6.400000     3.300000      5.100000     1.800000\nmax        7.900000     4.400000      6.900000     2.500000",
      "text/html": "<div>\n<style scoped>\n    .dataframe tbody tr th:only-of-type {\n        vertical-align: middle;\n    }\n\n    .dataframe tbody tr th {\n        vertical-align: top;\n    }\n\n    .dataframe thead th {\n        text-align: right;\n    }\n</style>\n<table border=\"1\" class=\"dataframe\">\n  <thead>\n    <tr style=\"text-align: right;\">\n      <th></th>\n      <th>sepal_length</th>\n      <th>sepal_width</th>\n      <th>petal_length</th>\n      <th>petal_width</th>\n    </tr>\n  </thead>\n  <tbody>\n    <tr>\n      <th>count</th>\n      <td>150.000000</td>\n      <td>150.000000</td>\n      <td>150.000000</td>\n      <td>150.000000</td>\n    </tr>\n    <tr>\n      <th>mean</th>\n      <td>5.843333</td>\n      <td>3.057333</td>\n      <td>3.758000</td>\n      <td>1.199333</td>\n    </tr>\n    <tr>\n      <th>std</th>\n      <td>0.828066</td>\n      <td>0.435866</td>\n      <td>1.765298</td>\n      <td>0.762238</td>\n    </tr>\n    <tr>\n      <th>min</th>\n      <td>4.300000</td>\n      <td>2.000000</td>\n      <td>1.000000</td>\n      <td>0.100000</td>\n    </tr>\n    <tr>\n      <th>25%</th>\n      <td>5.100000</td>\n      <td>2.800000</td>\n      <td>1.600000</td>\n      <td>0.300000</td>\n    </tr>\n    <tr>\n      <th>50%</th>\n      <td>5.800000</td>\n      <td>3.000000</td>\n      <td>4.350000</td>\n      <td>1.300000</td>\n    </tr>\n    <tr>\n      <th>75%</th>\n      <td>6.400000</td>\n      <td>3.300000</td>\n      <td>5.100000</td>\n      <td>1.800000</td>\n    </tr>\n    <tr>\n      <th>max</th>\n      <td>7.900000</td>\n      <td>4.400000</td>\n      <td>6.900000</td>\n      <td>2.500000</td>\n    </tr>\n  </tbody>\n</table>\n</div>"
     },
     "metadata": {},
     "execution_count": 25
    }
   ],
   "source": [
    "df.describe()"
   ]
  },
  {
   "cell_type": "code",
   "execution_count": 26,
   "metadata": {},
   "outputs": [
    {
     "output_type": "execute_result",
     "data": {
      "text/plain": "                 0       1       2       3       4       5       6       7    \\\nsepal_length     5.1     4.9     4.7     4.6       5     5.4     4.6       5   \nsepal_width      3.5       3     3.2     3.1     3.6     3.9     3.4     3.4   \npetal_length     1.4     1.4     1.3     1.5     1.4     1.7     1.4     1.5   \npetal_width      0.2     0.2     0.2     0.2     0.2     0.4     0.3     0.2   \nspecies       setosa  setosa  setosa  setosa  setosa  setosa  setosa  setosa   \n\n                 8       9    ...        140        141        142        143  \\\nsepal_length     4.4     4.9  ...        6.7        6.9        5.8        6.8   \nsepal_width      2.9     3.1  ...        3.1        3.1        2.7        3.2   \npetal_length     1.4     1.5  ...        5.6        5.1        5.1        5.9   \npetal_width      0.2     0.1  ...        2.4        2.3        1.9        2.3   \nspecies       setosa  setosa  ...  virginica  virginica  virginica  virginica   \n\n                    144        145        146        147        148        149  \nsepal_length        6.7        6.7        6.3        6.5        6.2        5.9  \nsepal_width         3.3          3        2.5          3        3.4          3  \npetal_length        5.7        5.2          5        5.2        5.4        5.1  \npetal_width         2.5        2.3        1.9          2        2.3        1.8  \nspecies       virginica  virginica  virginica  virginica  virginica  virginica  \n\n[5 rows x 150 columns]",
      "text/html": "<div>\n<style scoped>\n    .dataframe tbody tr th:only-of-type {\n        vertical-align: middle;\n    }\n\n    .dataframe tbody tr th {\n        vertical-align: top;\n    }\n\n    .dataframe thead th {\n        text-align: right;\n    }\n</style>\n<table border=\"1\" class=\"dataframe\">\n  <thead>\n    <tr style=\"text-align: right;\">\n      <th></th>\n      <th>0</th>\n      <th>1</th>\n      <th>2</th>\n      <th>3</th>\n      <th>4</th>\n      <th>5</th>\n      <th>6</th>\n      <th>7</th>\n      <th>8</th>\n      <th>9</th>\n      <th>...</th>\n      <th>140</th>\n      <th>141</th>\n      <th>142</th>\n      <th>143</th>\n      <th>144</th>\n      <th>145</th>\n      <th>146</th>\n      <th>147</th>\n      <th>148</th>\n      <th>149</th>\n    </tr>\n  </thead>\n  <tbody>\n    <tr>\n      <th>sepal_length</th>\n      <td>5.1</td>\n      <td>4.9</td>\n      <td>4.7</td>\n      <td>4.6</td>\n      <td>5</td>\n      <td>5.4</td>\n      <td>4.6</td>\n      <td>5</td>\n      <td>4.4</td>\n      <td>4.9</td>\n      <td>...</td>\n      <td>6.7</td>\n      <td>6.9</td>\n      <td>5.8</td>\n      <td>6.8</td>\n      <td>6.7</td>\n      <td>6.7</td>\n      <td>6.3</td>\n      <td>6.5</td>\n      <td>6.2</td>\n      <td>5.9</td>\n    </tr>\n    <tr>\n      <th>sepal_width</th>\n      <td>3.5</td>\n      <td>3</td>\n      <td>3.2</td>\n      <td>3.1</td>\n      <td>3.6</td>\n      <td>3.9</td>\n      <td>3.4</td>\n      <td>3.4</td>\n      <td>2.9</td>\n      <td>3.1</td>\n      <td>...</td>\n      <td>3.1</td>\n      <td>3.1</td>\n      <td>2.7</td>\n      <td>3.2</td>\n      <td>3.3</td>\n      <td>3</td>\n      <td>2.5</td>\n      <td>3</td>\n      <td>3.4</td>\n      <td>3</td>\n    </tr>\n    <tr>\n      <th>petal_length</th>\n      <td>1.4</td>\n      <td>1.4</td>\n      <td>1.3</td>\n      <td>1.5</td>\n      <td>1.4</td>\n      <td>1.7</td>\n      <td>1.4</td>\n      <td>1.5</td>\n      <td>1.4</td>\n      <td>1.5</td>\n      <td>...</td>\n      <td>5.6</td>\n      <td>5.1</td>\n      <td>5.1</td>\n      <td>5.9</td>\n      <td>5.7</td>\n      <td>5.2</td>\n      <td>5</td>\n      <td>5.2</td>\n      <td>5.4</td>\n      <td>5.1</td>\n    </tr>\n    <tr>\n      <th>petal_width</th>\n      <td>0.2</td>\n      <td>0.2</td>\n      <td>0.2</td>\n      <td>0.2</td>\n      <td>0.2</td>\n      <td>0.4</td>\n      <td>0.3</td>\n      <td>0.2</td>\n      <td>0.2</td>\n      <td>0.1</td>\n      <td>...</td>\n      <td>2.4</td>\n      <td>2.3</td>\n      <td>1.9</td>\n      <td>2.3</td>\n      <td>2.5</td>\n      <td>2.3</td>\n      <td>1.9</td>\n      <td>2</td>\n      <td>2.3</td>\n      <td>1.8</td>\n    </tr>\n    <tr>\n      <th>species</th>\n      <td>setosa</td>\n      <td>setosa</td>\n      <td>setosa</td>\n      <td>setosa</td>\n      <td>setosa</td>\n      <td>setosa</td>\n      <td>setosa</td>\n      <td>setosa</td>\n      <td>setosa</td>\n      <td>setosa</td>\n      <td>...</td>\n      <td>virginica</td>\n      <td>virginica</td>\n      <td>virginica</td>\n      <td>virginica</td>\n      <td>virginica</td>\n      <td>virginica</td>\n      <td>virginica</td>\n      <td>virginica</td>\n      <td>virginica</td>\n      <td>virginica</td>\n    </tr>\n  </tbody>\n</table>\n<p>5 rows × 150 columns</p>\n</div>"
     },
     "metadata": {},
     "execution_count": 26
    }
   ],
   "source": [
    "df.T"
   ]
  },
  {
   "cell_type": "code",
   "execution_count": 27,
   "metadata": {},
   "outputs": [
    {
     "output_type": "execute_result",
     "data": {
      "text/plain": "   bio   c   p   r   u   y\n0    0  16  10  10  16  19\n1    0  12  14  18  12  18\n2    0  12  16  14  16  11\n3    0  16  12  18  13  13\n4    0  11  11  12  11  10\n5    0  19  12  18  19  14\n6    0  12  12  18  13  13\n7    0  19  15  19  15  12\n8    0  19  16  14  17  18\n9    0  13  15  11  13  14",
      "text/html": "<div>\n<style scoped>\n    .dataframe tbody tr th:only-of-type {\n        vertical-align: middle;\n    }\n\n    .dataframe tbody tr th {\n        vertical-align: top;\n    }\n\n    .dataframe thead th {\n        text-align: right;\n    }\n</style>\n<table border=\"1\" class=\"dataframe\">\n  <thead>\n    <tr style=\"text-align: right;\">\n      <th></th>\n      <th>bio</th>\n      <th>c</th>\n      <th>p</th>\n      <th>r</th>\n      <th>u</th>\n      <th>y</th>\n    </tr>\n  </thead>\n  <tbody>\n    <tr>\n      <th>0</th>\n      <td>0</td>\n      <td>16</td>\n      <td>10</td>\n      <td>10</td>\n      <td>16</td>\n      <td>19</td>\n    </tr>\n    <tr>\n      <th>1</th>\n      <td>0</td>\n      <td>12</td>\n      <td>14</td>\n      <td>18</td>\n      <td>12</td>\n      <td>18</td>\n    </tr>\n    <tr>\n      <th>2</th>\n      <td>0</td>\n      <td>12</td>\n      <td>16</td>\n      <td>14</td>\n      <td>16</td>\n      <td>11</td>\n    </tr>\n    <tr>\n      <th>3</th>\n      <td>0</td>\n      <td>16</td>\n      <td>12</td>\n      <td>18</td>\n      <td>13</td>\n      <td>13</td>\n    </tr>\n    <tr>\n      <th>4</th>\n      <td>0</td>\n      <td>11</td>\n      <td>11</td>\n      <td>12</td>\n      <td>11</td>\n      <td>10</td>\n    </tr>\n    <tr>\n      <th>5</th>\n      <td>0</td>\n      <td>19</td>\n      <td>12</td>\n      <td>18</td>\n      <td>19</td>\n      <td>14</td>\n    </tr>\n    <tr>\n      <th>6</th>\n      <td>0</td>\n      <td>12</td>\n      <td>12</td>\n      <td>18</td>\n      <td>13</td>\n      <td>13</td>\n    </tr>\n    <tr>\n      <th>7</th>\n      <td>0</td>\n      <td>19</td>\n      <td>15</td>\n      <td>19</td>\n      <td>15</td>\n      <td>12</td>\n    </tr>\n    <tr>\n      <th>8</th>\n      <td>0</td>\n      <td>19</td>\n      <td>16</td>\n      <td>14</td>\n      <td>17</td>\n      <td>18</td>\n    </tr>\n    <tr>\n      <th>9</th>\n      <td>0</td>\n      <td>13</td>\n      <td>15</td>\n      <td>11</td>\n      <td>13</td>\n      <td>14</td>\n    </tr>\n  </tbody>\n</table>\n</div>"
     },
     "metadata": {},
     "execution_count": 27
    }
   ],
   "source": [
    "marks.sort_index(axis=1)"
   ]
  },
  {
   "cell_type": "code",
   "execution_count": 28,
   "metadata": {},
   "outputs": [
    {
     "output_type": "execute_result",
     "data": {
      "text/plain": "    p   c   r   y   u  bio\n0  10  16  10  19  16    0\n4  11  11  12  10  11    0\n3  12  16  18  13  13    0\n5  12  19  18  14  19    0\n6  12  12  18  13  13    0\n1  14  12  18  18  12    0\n7  15  19  19  12  15    0\n9  15  13  11  14  13    0\n2  16  12  14  11  16    0\n8  16  19  14  18  17    0",
      "text/html": "<div>\n<style scoped>\n    .dataframe tbody tr th:only-of-type {\n        vertical-align: middle;\n    }\n\n    .dataframe tbody tr th {\n        vertical-align: top;\n    }\n\n    .dataframe thead th {\n        text-align: right;\n    }\n</style>\n<table border=\"1\" class=\"dataframe\">\n  <thead>\n    <tr style=\"text-align: right;\">\n      <th></th>\n      <th>p</th>\n      <th>c</th>\n      <th>r</th>\n      <th>y</th>\n      <th>u</th>\n      <th>bio</th>\n    </tr>\n  </thead>\n  <tbody>\n    <tr>\n      <th>0</th>\n      <td>10</td>\n      <td>16</td>\n      <td>10</td>\n      <td>19</td>\n      <td>16</td>\n      <td>0</td>\n    </tr>\n    <tr>\n      <th>4</th>\n      <td>11</td>\n      <td>11</td>\n      <td>12</td>\n      <td>10</td>\n      <td>11</td>\n      <td>0</td>\n    </tr>\n    <tr>\n      <th>3</th>\n      <td>12</td>\n      <td>16</td>\n      <td>18</td>\n      <td>13</td>\n      <td>13</td>\n      <td>0</td>\n    </tr>\n    <tr>\n      <th>5</th>\n      <td>12</td>\n      <td>19</td>\n      <td>18</td>\n      <td>14</td>\n      <td>19</td>\n      <td>0</td>\n    </tr>\n    <tr>\n      <th>6</th>\n      <td>12</td>\n      <td>12</td>\n      <td>18</td>\n      <td>13</td>\n      <td>13</td>\n      <td>0</td>\n    </tr>\n    <tr>\n      <th>1</th>\n      <td>14</td>\n      <td>12</td>\n      <td>18</td>\n      <td>18</td>\n      <td>12</td>\n      <td>0</td>\n    </tr>\n    <tr>\n      <th>7</th>\n      <td>15</td>\n      <td>19</td>\n      <td>19</td>\n      <td>12</td>\n      <td>15</td>\n      <td>0</td>\n    </tr>\n    <tr>\n      <th>9</th>\n      <td>15</td>\n      <td>13</td>\n      <td>11</td>\n      <td>14</td>\n      <td>13</td>\n      <td>0</td>\n    </tr>\n    <tr>\n      <th>2</th>\n      <td>16</td>\n      <td>12</td>\n      <td>14</td>\n      <td>11</td>\n      <td>16</td>\n      <td>0</td>\n    </tr>\n    <tr>\n      <th>8</th>\n      <td>16</td>\n      <td>19</td>\n      <td>14</td>\n      <td>18</td>\n      <td>17</td>\n      <td>0</td>\n    </tr>\n  </tbody>\n</table>\n</div>"
     },
     "metadata": {},
     "execution_count": 28
    }
   ],
   "source": [
    "marks.sort_values([\"p\"])"
   ]
  },
  {
   "cell_type": "code",
   "execution_count": 32,
   "metadata": {},
   "outputs": [
    {
     "output_type": "execute_result",
     "data": {
      "text/plain": "    p   r   y\n0  10  10  19\n2  16  14  11\n6  12  18  13",
      "text/html": "<div>\n<style scoped>\n    .dataframe tbody tr th:only-of-type {\n        vertical-align: middle;\n    }\n\n    .dataframe tbody tr th {\n        vertical-align: top;\n    }\n\n    .dataframe thead th {\n        text-align: right;\n    }\n</style>\n<table border=\"1\" class=\"dataframe\">\n  <thead>\n    <tr style=\"text-align: right;\">\n      <th></th>\n      <th>p</th>\n      <th>r</th>\n      <th>y</th>\n    </tr>\n  </thead>\n  <tbody>\n    <tr>\n      <th>0</th>\n      <td>10</td>\n      <td>10</td>\n      <td>19</td>\n    </tr>\n    <tr>\n      <th>2</th>\n      <td>16</td>\n      <td>14</td>\n      <td>11</td>\n    </tr>\n    <tr>\n      <th>6</th>\n      <td>12</td>\n      <td>18</td>\n      <td>13</td>\n    </tr>\n  </tbody>\n</table>\n</div>"
     },
     "metadata": {},
     "execution_count": 32
    }
   ],
   "source": [
    "marks.iloc[[0, 2, 6], [0, 2, 3]]"
   ]
  }
 ]
}