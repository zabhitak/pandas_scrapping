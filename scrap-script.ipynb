{
 "metadata": {
  "language_info": {
   "codemirror_mode": {
    "name": "ipython",
    "version": 3
   },
   "file_extension": ".py",
   "mimetype": "text/x-python",
   "name": "python",
   "nbconvert_exporter": "python",
   "pygments_lexer": "ipython3",
   "version": 3
  },
  "orig_nbformat": 2,
  "kernelspec": {
   "name": "python_defaultSpec_1596036823273",
   "display_name": "Python 3.7.6 64-bit ('base': conda)"
  }
 },
 "nbformat": 4,
 "nbformat_minor": 2,
 "cells": [
  {
   "cell_type": "code",
   "execution_count": 1,
   "metadata": {},
   "outputs": [],
   "source": [
    "import requests\n",
    "from bs4 import BeautifulSoup"
   ]
  },
  {
   "cell_type": "code",
   "execution_count": 2,
   "metadata": {},
   "outputs": [],
   "source": [
    "url = \"https://www.goodreads.com/quotes/tag/{}?page={}\""
   ]
  },
  {
   "cell_type": "code",
   "execution_count": 3,
   "metadata": {},
   "outputs": [],
   "source": [
    "def get_quotes(url):    \n",
    "    \n",
    "    res = requests.get(url)\n",
    "\n",
    "    soup = BeautifulSoup(res.text)\n",
    "\n",
    "    quote_divs = soup.find_all(\"div\", attrs={\"class\" : \"quote\"})\n",
    "\n",
    "    quotes = []\n",
    "\n",
    "    for quote_div in quote_divs:\n",
    "\n",
    "        quoteText_div = quote_div.find_next(\"div\", attrs={\"class\" : \"quoteText\"})\n",
    "\n",
    "        striped = quoteText_div.text.strip()\n",
    "\n",
    "        striped_li = striped.split(\"\\n\")\n",
    "\n",
    "        quote = striped_li[0][1:-1]\n",
    "        if striped_li[-1] == '//]]>':\n",
    "            author = striped_li[3].strip()\n",
    "        else:\n",
    "            author = striped_li[-1].strip()\n",
    "\n",
    "        left_div = quote_div.find_next(\"div\", attrs={\"class\" : \"left\"})\n",
    "        tags = [tag.text for tag in left_div.find_all(\"a\")]\n",
    "\n",
    "        quote_item = {\n",
    "            \"text\" : quote,\n",
    "            \"author\" : author,\n",
    "            \"tags\" : tags\n",
    "        }\n",
    "\n",
    "        quotes.append(quote_item)\n",
    "    \n",
    "    return quotes\n",
    "\n"
   ]
  },
  {
   "cell_type": "code",
   "execution_count": 4,
   "metadata": {
    "tags": []
   },
   "outputs": [
    {
     "output_type": "stream",
     "name": "stdout",
     "text": "processing 1\nprocessing 2\nprocessing 3\nprocessing 4\nprocessing 5\n"
    }
   ],
   "source": [
    "total = []\n",
    "\n",
    "for i in range(1,6):\n",
    "    total.extend(get_quotes(url.format(\"love\",i)))\n",
    "    print(\"processing\",i)"
   ]
  },
  {
   "cell_type": "code",
   "execution_count": 5,
   "metadata": {},
   "outputs": [],
   "source": [
    "import pandas as pd"
   ]
  },
  {
   "cell_type": "code",
   "execution_count": 6,
   "metadata": {},
   "outputs": [],
   "source": [
    "df = pd.DataFrame(total)"
   ]
  },
  {
   "cell_type": "code",
   "execution_count": 7,
   "metadata": {},
   "outputs": [],
   "source": [
    "df.to_csv(\"scrap.csv\",index=None)"
   ]
  }
 ]
}